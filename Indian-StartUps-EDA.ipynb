{
 "cells": [
  {
   "cell_type": "markdown",
   "id": "5644f157",
   "metadata": {},
   "source": [
    "# Start-Ups Analysis India\n",
    "This project is based on data collected from various open sources, w.r.t. the startups that hit the Indian market between year 1963-2021.\n",
    "- It is a basic EDA project to get an overview of the \"Indian StartUp Ecosystem\"."
   ]
  },
  {
   "cell_type": "markdown",
   "id": "296b132b",
   "metadata": {},
   "source": [
    "### 1. Imports"
   ]
  },
  {
   "cell_type": "code",
   "execution_count": 1,
   "id": "5a46fb66",
   "metadata": {},
   "outputs": [],
   "source": [
    "import numpy as np\n",
    "import pandas as pd\n",
    "import matplotlib.pyplot as plt\n",
    "import seaborn as sns\n",
    "import warnings\n",
    "warnings.filterwarnings('ignore')"
   ]
  },
  {
   "cell_type": "markdown",
   "id": "ecd4853b",
   "metadata": {},
   "source": [
    "### 2. Data Extraction "
   ]
  },
  {
   "cell_type": "code",
   "execution_count": 2,
   "id": "304c80f4",
   "metadata": {},
   "outputs": [],
   "source": [
    "#Load the data\n",
    "s_data = pd.read_csv(\"Indian_Startup.csv\")"
   ]
  },
  {
   "cell_type": "code",
   "execution_count": 3,
   "id": "4a99552e",
   "metadata": {},
   "outputs": [
    {
     "data": {
      "text/html": [
       "<div>\n",
       "<style scoped>\n",
       "    .dataframe tbody tr th:only-of-type {\n",
       "        vertical-align: middle;\n",
       "    }\n",
       "\n",
       "    .dataframe tbody tr th {\n",
       "        vertical-align: top;\n",
       "    }\n",
       "\n",
       "    .dataframe thead th {\n",
       "        text-align: right;\n",
       "    }\n",
       "</style>\n",
       "<table border=\"1\" class=\"dataframe\">\n",
       "  <thead>\n",
       "    <tr style=\"text-align: right;\">\n",
       "      <th></th>\n",
       "      <th>Company/Brand</th>\n",
       "      <th>Founded</th>\n",
       "      <th>Headquarters</th>\n",
       "      <th>Sector</th>\n",
       "      <th>What it does</th>\n",
       "      <th>Founder/s</th>\n",
       "      <th>Investor/s</th>\n",
       "      <th>Amount</th>\n",
       "      <th>Stage</th>\n",
       "      <th>Date</th>\n",
       "    </tr>\n",
       "  </thead>\n",
       "  <tbody>\n",
       "    <tr>\n",
       "      <th>0</th>\n",
       "      <td>CollegeDekho</td>\n",
       "      <td>2015.0</td>\n",
       "      <td>Gurgaon</td>\n",
       "      <td>E-learning</td>\n",
       "      <td>Collegedekho.com is Student’s Partner, Friend ...</td>\n",
       "      <td>Ruchir Arora</td>\n",
       "      <td>Disrupt ADQ, QIC</td>\n",
       "      <td>$35,000,000</td>\n",
       "      <td>Series B</td>\n",
       "      <td>Dec-21</td>\n",
       "    </tr>\n",
       "    <tr>\n",
       "      <th>1</th>\n",
       "      <td>BOX8</td>\n",
       "      <td>2012.0</td>\n",
       "      <td>Mumbai</td>\n",
       "      <td>Food &amp; Beverages</td>\n",
       "      <td>India's Largest Desi Meals Brand</td>\n",
       "      <td>Anshul Gupta, Amit Raj</td>\n",
       "      <td>Tiger Global</td>\n",
       "      <td>$40,000,000</td>\n",
       "      <td>NaN</td>\n",
       "      <td>Dec-21</td>\n",
       "    </tr>\n",
       "    <tr>\n",
       "      <th>2</th>\n",
       "      <td>Simpl</td>\n",
       "      <td>2015.0</td>\n",
       "      <td>Bangalore</td>\n",
       "      <td>Consumer Services</td>\n",
       "      <td>Simpl empowers merchants to build trusted rela...</td>\n",
       "      <td>Nitya, Chaitra Chidanand</td>\n",
       "      <td>Valar Ventures, IA Ventures</td>\n",
       "      <td>$40,000,000</td>\n",
       "      <td>Series B</td>\n",
       "      <td>Dec-21</td>\n",
       "    </tr>\n",
       "    <tr>\n",
       "      <th>3</th>\n",
       "      <td>8i Ventures</td>\n",
       "      <td>2018.0</td>\n",
       "      <td>Mumbai</td>\n",
       "      <td>Venture Capital &amp; Private Equity</td>\n",
       "      <td>8i is a Mumbai &amp; Bangalore based early stage f...</td>\n",
       "      <td>Vikram Chachra</td>\n",
       "      <td>NaN</td>\n",
       "      <td>$50,000,000</td>\n",
       "      <td>NaN</td>\n",
       "      <td>Dec-21</td>\n",
       "    </tr>\n",
       "    <tr>\n",
       "      <th>4</th>\n",
       "      <td>PayGlocal</td>\n",
       "      <td>2021.0</td>\n",
       "      <td>Bangalore</td>\n",
       "      <td>Financial Services</td>\n",
       "      <td>PayGlocal is a FinTech solving for global paym...</td>\n",
       "      <td>Prachi Dharani, Rohit Sukhija, Yogesh Lokhande</td>\n",
       "      <td>Sequoia Capital India</td>\n",
       "      <td>$4,900,000</td>\n",
       "      <td>Series A</td>\n",
       "      <td>Dec-21</td>\n",
       "    </tr>\n",
       "  </tbody>\n",
       "</table>\n",
       "</div>"
      ],
      "text/plain": [
       "  Company/Brand  Founded Headquarters                            Sector  \\\n",
       "0  CollegeDekho   2015.0      Gurgaon                        E-learning   \n",
       "1          BOX8   2012.0       Mumbai                  Food & Beverages   \n",
       "2         Simpl   2015.0    Bangalore                 Consumer Services   \n",
       "3   8i Ventures   2018.0       Mumbai  Venture Capital & Private Equity   \n",
       "4     PayGlocal   2021.0    Bangalore                Financial Services   \n",
       "\n",
       "                                        What it does  \\\n",
       "0  Collegedekho.com is Student’s Partner, Friend ...   \n",
       "1                   India's Largest Desi Meals Brand   \n",
       "2  Simpl empowers merchants to build trusted rela...   \n",
       "3  8i is a Mumbai & Bangalore based early stage f...   \n",
       "4  PayGlocal is a FinTech solving for global paym...   \n",
       "\n",
       "                                        Founder/s  \\\n",
       "0                                    Ruchir Arora   \n",
       "1                          Anshul Gupta, Amit Raj   \n",
       "2                        Nitya, Chaitra Chidanand   \n",
       "3                                  Vikram Chachra   \n",
       "4  Prachi Dharani, Rohit Sukhija, Yogesh Lokhande   \n",
       "\n",
       "                    Investor/s       Amount     Stage   Date   \n",
       "0             Disrupt ADQ, QIC  $35,000,000  Series B  Dec-21  \n",
       "1                 Tiger Global  $40,000,000       NaN  Dec-21  \n",
       "2  Valar Ventures, IA Ventures  $40,000,000  Series B  Dec-21  \n",
       "3                          NaN  $50,000,000       NaN  Dec-21  \n",
       "4        Sequoia Capital India   $4,900,000  Series A  Dec-21  "
      ]
     },
     "execution_count": 3,
     "metadata": {},
     "output_type": "execute_result"
    }
   ],
   "source": [
    "s_data.head()"
   ]
  },
  {
   "cell_type": "code",
   "execution_count": 4,
   "id": "287f09d0",
   "metadata": {},
   "outputs": [
    {
     "data": {
      "text/html": [
       "<div>\n",
       "<style scoped>\n",
       "    .dataframe tbody tr th:only-of-type {\n",
       "        vertical-align: middle;\n",
       "    }\n",
       "\n",
       "    .dataframe tbody tr th {\n",
       "        vertical-align: top;\n",
       "    }\n",
       "\n",
       "    .dataframe thead th {\n",
       "        text-align: right;\n",
       "    }\n",
       "</style>\n",
       "<table border=\"1\" class=\"dataframe\">\n",
       "  <thead>\n",
       "    <tr style=\"text-align: right;\">\n",
       "      <th></th>\n",
       "      <th>Company/Brand</th>\n",
       "      <th>Founded</th>\n",
       "      <th>Headquarters</th>\n",
       "      <th>Sector</th>\n",
       "      <th>What it does</th>\n",
       "      <th>Founder/s</th>\n",
       "      <th>Investor/s</th>\n",
       "      <th>Amount</th>\n",
       "      <th>Stage</th>\n",
       "      <th>Date</th>\n",
       "    </tr>\n",
       "  </thead>\n",
       "  <tbody>\n",
       "    <tr>\n",
       "      <th>1204</th>\n",
       "      <td>HobSpace</td>\n",
       "      <td>2019.0</td>\n",
       "      <td>Mumbai</td>\n",
       "      <td>EdTech</td>\n",
       "      <td>HobSpace is a platform for extra-curricular ac...</td>\n",
       "      <td>Priya Goel Sheth, Harsh Jain</td>\n",
       "      <td>Siddharth Bhaskar Shah, Upsparks</td>\n",
       "      <td>$100,000</td>\n",
       "      <td>Pre-series A1</td>\n",
       "      <td>Jan-21</td>\n",
       "    </tr>\n",
       "    <tr>\n",
       "      <th>1205</th>\n",
       "      <td>DcodeAI</td>\n",
       "      <td>2020.0</td>\n",
       "      <td>New Delhi</td>\n",
       "      <td>EdTech</td>\n",
       "      <td>EMPOWER LEARNERS TO BE FUTURE READY USING AI</td>\n",
       "      <td>Kartik Sharma, Ashish Aggarwal</td>\n",
       "      <td>S Chand</td>\n",
       "      <td>$500,000</td>\n",
       "      <td>NaN</td>\n",
       "      <td>Jan-21</td>\n",
       "    </tr>\n",
       "    <tr>\n",
       "      <th>1206</th>\n",
       "      <td>Biocon Biologics</td>\n",
       "      <td>1978.0</td>\n",
       "      <td>Bangalore</td>\n",
       "      <td>BioTechnology</td>\n",
       "      <td>Biocon is a fully integrated pure play biosimi...</td>\n",
       "      <td>Kiran Mazumdar-Shaw</td>\n",
       "      <td>Goldman Sachs, Tata Capital</td>\n",
       "      <td>$70,000,000</td>\n",
       "      <td>NaN</td>\n",
       "      <td>Jan-21</td>\n",
       "    </tr>\n",
       "    <tr>\n",
       "      <th>1207</th>\n",
       "      <td>KiranaKart</td>\n",
       "      <td>2020.0</td>\n",
       "      <td>Mumbai</td>\n",
       "      <td>E-commerce</td>\n",
       "      <td>A better model for instant grocery delivery in...</td>\n",
       "      <td>Kaivalya Vohra, Aadit Palicha</td>\n",
       "      <td>Global Founders Capital</td>\n",
       "      <td>$720,000</td>\n",
       "      <td>Pre-seed</td>\n",
       "      <td>Jan-21</td>\n",
       "    </tr>\n",
       "    <tr>\n",
       "      <th>1208</th>\n",
       "      <td>Meddo</td>\n",
       "      <td>2018.0</td>\n",
       "      <td>Gurgaon</td>\n",
       "      <td>Healthcare</td>\n",
       "      <td>Meddo is an end-to-end medical services provider</td>\n",
       "      <td>Saurabh Kochhar</td>\n",
       "      <td>growX ventures, Venture Gurukool</td>\n",
       "      <td>$3,000,000</td>\n",
       "      <td>Pre-series A</td>\n",
       "      <td>Jan-21</td>\n",
       "    </tr>\n",
       "  </tbody>\n",
       "</table>\n",
       "</div>"
      ],
      "text/plain": [
       "         Company/Brand  Founded Headquarters         Sector  \\\n",
       "1204          HobSpace   2019.0       Mumbai         EdTech   \n",
       "1205           DcodeAI   2020.0    New Delhi         EdTech   \n",
       "1206  Biocon Biologics   1978.0    Bangalore  BioTechnology   \n",
       "1207        KiranaKart   2020.0       Mumbai     E-commerce   \n",
       "1208             Meddo   2018.0      Gurgaon     Healthcare   \n",
       "\n",
       "                                           What it does  \\\n",
       "1204  HobSpace is a platform for extra-curricular ac...   \n",
       "1205       EMPOWER LEARNERS TO BE FUTURE READY USING AI   \n",
       "1206  Biocon is a fully integrated pure play biosimi...   \n",
       "1207  A better model for instant grocery delivery in...   \n",
       "1208   Meddo is an end-to-end medical services provider   \n",
       "\n",
       "                           Founder/s                        Investor/s  \\\n",
       "1204    Priya Goel Sheth, Harsh Jain  Siddharth Bhaskar Shah, Upsparks   \n",
       "1205  Kartik Sharma, Ashish Aggarwal                           S Chand   \n",
       "1206             Kiran Mazumdar-Shaw       Goldman Sachs, Tata Capital   \n",
       "1207   Kaivalya Vohra, Aadit Palicha           Global Founders Capital   \n",
       "1208                 Saurabh Kochhar  growX ventures, Venture Gurukool   \n",
       "\n",
       "           Amount          Stage   Date   \n",
       "1204     $100,000  Pre-series A1  Jan-21  \n",
       "1205     $500,000            NaN  Jan-21  \n",
       "1206  $70,000,000            NaN  Jan-21  \n",
       "1207     $720,000       Pre-seed  Jan-21  \n",
       "1208   $3,000,000   Pre-series A  Jan-21  "
      ]
     },
     "execution_count": 4,
     "metadata": {},
     "output_type": "execute_result"
    }
   ],
   "source": [
    "s_data.tail()"
   ]
  },
  {
   "cell_type": "code",
   "execution_count": 5,
   "id": "7312bd99",
   "metadata": {},
   "outputs": [
    {
     "data": {
      "text/plain": [
       "(1209, 10)"
      ]
     },
     "execution_count": 5,
     "metadata": {},
     "output_type": "execute_result"
    }
   ],
   "source": [
    "s_data.shape"
   ]
  },
  {
   "cell_type": "code",
   "execution_count": 6,
   "id": "d5879f3a",
   "metadata": {},
   "outputs": [
    {
     "data": {
      "text/plain": [
       "Index(['Company/Brand', 'Founded', 'Headquarters', 'Sector', 'What it does',\n",
       "       'Founder/s', 'Investor/s', 'Amount', 'Stage', 'Date '],\n",
       "      dtype='object')"
      ]
     },
     "execution_count": 6,
     "metadata": {},
     "output_type": "execute_result"
    }
   ],
   "source": [
    "s_data.columns"
   ]
  },
  {
   "cell_type": "code",
   "execution_count": 7,
   "id": "956d92bc",
   "metadata": {},
   "outputs": [
    {
     "name": "stdout",
     "output_type": "stream",
     "text": [
      "<class 'pandas.core.frame.DataFrame'>\n",
      "RangeIndex: 1209 entries, 0 to 1208\n",
      "Data columns (total 10 columns):\n",
      " #   Column         Non-Null Count  Dtype  \n",
      "---  ------         --------------  -----  \n",
      " 0   Company/Brand  1209 non-null   object \n",
      " 1   Founded        1208 non-null   float64\n",
      " 2   Headquarters   1208 non-null   object \n",
      " 3   Sector         1209 non-null   object \n",
      " 4   What it does   1209 non-null   object \n",
      " 5   Founder/s      1205 non-null   object \n",
      " 6   Investor/s     1147 non-null   object \n",
      " 7   Amount         1206 non-null   object \n",
      " 8   Stage          781 non-null    object \n",
      " 9   Date           1209 non-null   object \n",
      "dtypes: float64(1), object(9)\n",
      "memory usage: 94.6+ KB\n"
     ]
    }
   ],
   "source": [
    "s_data.info()"
   ]
  },
  {
   "cell_type": "code",
   "execution_count": 8,
   "id": "bf33a010",
   "metadata": {},
   "outputs": [
    {
     "data": {
      "text/html": [
       "<div>\n",
       "<style scoped>\n",
       "    .dataframe tbody tr th:only-of-type {\n",
       "        vertical-align: middle;\n",
       "    }\n",
       "\n",
       "    .dataframe tbody tr th {\n",
       "        vertical-align: top;\n",
       "    }\n",
       "\n",
       "    .dataframe thead th {\n",
       "        text-align: right;\n",
       "    }\n",
       "</style>\n",
       "<table border=\"1\" class=\"dataframe\">\n",
       "  <thead>\n",
       "    <tr style=\"text-align: right;\">\n",
       "      <th></th>\n",
       "      <th>Founded</th>\n",
       "    </tr>\n",
       "  </thead>\n",
       "  <tbody>\n",
       "    <tr>\n",
       "      <th>count</th>\n",
       "      <td>1208.000000</td>\n",
       "    </tr>\n",
       "    <tr>\n",
       "      <th>mean</th>\n",
       "      <td>2016.655629</td>\n",
       "    </tr>\n",
       "    <tr>\n",
       "      <th>std</th>\n",
       "      <td>4.517364</td>\n",
       "    </tr>\n",
       "    <tr>\n",
       "      <th>min</th>\n",
       "      <td>1963.000000</td>\n",
       "    </tr>\n",
       "    <tr>\n",
       "      <th>25%</th>\n",
       "      <td>2015.000000</td>\n",
       "    </tr>\n",
       "    <tr>\n",
       "      <th>50%</th>\n",
       "      <td>2018.000000</td>\n",
       "    </tr>\n",
       "    <tr>\n",
       "      <th>75%</th>\n",
       "      <td>2020.000000</td>\n",
       "    </tr>\n",
       "    <tr>\n",
       "      <th>max</th>\n",
       "      <td>2021.000000</td>\n",
       "    </tr>\n",
       "  </tbody>\n",
       "</table>\n",
       "</div>"
      ],
      "text/plain": [
       "           Founded\n",
       "count  1208.000000\n",
       "mean   2016.655629\n",
       "std       4.517364\n",
       "min    1963.000000\n",
       "25%    2015.000000\n",
       "50%    2018.000000\n",
       "75%    2020.000000\n",
       "max    2021.000000"
      ]
     },
     "execution_count": 8,
     "metadata": {},
     "output_type": "execute_result"
    }
   ],
   "source": [
    "s_data.describe()"
   ]
  },
  {
   "cell_type": "code",
   "execution_count": 9,
   "id": "f5b83a27",
   "metadata": {},
   "outputs": [
    {
     "data": {
      "text/plain": [
       "Company/Brand      0\n",
       "Founded            1\n",
       "Headquarters       1\n",
       "Sector             0\n",
       "What it does       0\n",
       "Founder/s          4\n",
       "Investor/s        62\n",
       "Amount             3\n",
       "Stage            428\n",
       "Date               0\n",
       "dtype: int64"
      ]
     },
     "execution_count": 9,
     "metadata": {},
     "output_type": "execute_result"
    }
   ],
   "source": [
    "s_data.isnull().sum()"
   ]
  },
  {
   "cell_type": "markdown",
   "id": "b309670e",
   "metadata": {},
   "source": [
    "- Columns = { Founded, Headquarters, Founder/s, Investor/s, Amount, Stage}, comprise of a lot of Null values, that needs to be taken care of.\n",
    "\n",
    "### 3. Data PreProcessing and EDA"
   ]
  },
  {
   "cell_type": "code",
   "execution_count": 10,
   "id": "4fea089d",
   "metadata": {},
   "outputs": [],
   "source": [
    "#Stage Column isn't that Important and consists of alot of Null Values.\n",
    "s_data.drop('Stage',axis=1, inplace=True)"
   ]
  },
  {
   "cell_type": "code",
   "execution_count": 11,
   "id": "d47635b6",
   "metadata": {},
   "outputs": [
    {
     "data": {
      "text/html": [
       "<div>\n",
       "<style scoped>\n",
       "    .dataframe tbody tr th:only-of-type {\n",
       "        vertical-align: middle;\n",
       "    }\n",
       "\n",
       "    .dataframe tbody tr th {\n",
       "        vertical-align: top;\n",
       "    }\n",
       "\n",
       "    .dataframe thead th {\n",
       "        text-align: right;\n",
       "    }\n",
       "</style>\n",
       "<table border=\"1\" class=\"dataframe\">\n",
       "  <thead>\n",
       "    <tr style=\"text-align: right;\">\n",
       "      <th></th>\n",
       "      <th>Company/Brand</th>\n",
       "      <th>Founded</th>\n",
       "      <th>Headquarters</th>\n",
       "      <th>Sector</th>\n",
       "      <th>What it does</th>\n",
       "      <th>Founder/s</th>\n",
       "      <th>Investor/s</th>\n",
       "      <th>Amount</th>\n",
       "      <th>Date</th>\n",
       "    </tr>\n",
       "  </thead>\n",
       "  <tbody>\n",
       "    <tr>\n",
       "      <th>0</th>\n",
       "      <td>CollegeDekho</td>\n",
       "      <td>2015.0</td>\n",
       "      <td>Gurgaon</td>\n",
       "      <td>E-learning</td>\n",
       "      <td>Collegedekho.com is Student’s Partner, Friend ...</td>\n",
       "      <td>Ruchir Arora</td>\n",
       "      <td>Disrupt ADQ, QIC</td>\n",
       "      <td>$35,000,000</td>\n",
       "      <td>Dec-21</td>\n",
       "    </tr>\n",
       "    <tr>\n",
       "      <th>1</th>\n",
       "      <td>BOX8</td>\n",
       "      <td>2012.0</td>\n",
       "      <td>Mumbai</td>\n",
       "      <td>Food &amp; Beverages</td>\n",
       "      <td>India's Largest Desi Meals Brand</td>\n",
       "      <td>Anshul Gupta, Amit Raj</td>\n",
       "      <td>Tiger Global</td>\n",
       "      <td>$40,000,000</td>\n",
       "      <td>Dec-21</td>\n",
       "    </tr>\n",
       "    <tr>\n",
       "      <th>2</th>\n",
       "      <td>Simpl</td>\n",
       "      <td>2015.0</td>\n",
       "      <td>Bangalore</td>\n",
       "      <td>Consumer Services</td>\n",
       "      <td>Simpl empowers merchants to build trusted rela...</td>\n",
       "      <td>Nitya, Chaitra Chidanand</td>\n",
       "      <td>Valar Ventures, IA Ventures</td>\n",
       "      <td>$40,000,000</td>\n",
       "      <td>Dec-21</td>\n",
       "    </tr>\n",
       "    <tr>\n",
       "      <th>3</th>\n",
       "      <td>8i Ventures</td>\n",
       "      <td>2018.0</td>\n",
       "      <td>Mumbai</td>\n",
       "      <td>Venture Capital &amp; Private Equity</td>\n",
       "      <td>8i is a Mumbai &amp; Bangalore based early stage f...</td>\n",
       "      <td>Vikram Chachra</td>\n",
       "      <td>NaN</td>\n",
       "      <td>$50,000,000</td>\n",
       "      <td>Dec-21</td>\n",
       "    </tr>\n",
       "    <tr>\n",
       "      <th>4</th>\n",
       "      <td>PayGlocal</td>\n",
       "      <td>2021.0</td>\n",
       "      <td>Bangalore</td>\n",
       "      <td>Financial Services</td>\n",
       "      <td>PayGlocal is a FinTech solving for global paym...</td>\n",
       "      <td>Prachi Dharani, Rohit Sukhija, Yogesh Lokhande</td>\n",
       "      <td>Sequoia Capital India</td>\n",
       "      <td>$4,900,000</td>\n",
       "      <td>Dec-21</td>\n",
       "    </tr>\n",
       "  </tbody>\n",
       "</table>\n",
       "</div>"
      ],
      "text/plain": [
       "  Company/Brand  Founded Headquarters                            Sector  \\\n",
       "0  CollegeDekho   2015.0      Gurgaon                        E-learning   \n",
       "1          BOX8   2012.0       Mumbai                  Food & Beverages   \n",
       "2         Simpl   2015.0    Bangalore                 Consumer Services   \n",
       "3   8i Ventures   2018.0       Mumbai  Venture Capital & Private Equity   \n",
       "4     PayGlocal   2021.0    Bangalore                Financial Services   \n",
       "\n",
       "                                        What it does  \\\n",
       "0  Collegedekho.com is Student’s Partner, Friend ...   \n",
       "1                   India's Largest Desi Meals Brand   \n",
       "2  Simpl empowers merchants to build trusted rela...   \n",
       "3  8i is a Mumbai & Bangalore based early stage f...   \n",
       "4  PayGlocal is a FinTech solving for global paym...   \n",
       "\n",
       "                                        Founder/s  \\\n",
       "0                                    Ruchir Arora   \n",
       "1                          Anshul Gupta, Amit Raj   \n",
       "2                        Nitya, Chaitra Chidanand   \n",
       "3                                  Vikram Chachra   \n",
       "4  Prachi Dharani, Rohit Sukhija, Yogesh Lokhande   \n",
       "\n",
       "                    Investor/s       Amount   Date   \n",
       "0             Disrupt ADQ, QIC  $35,000,000  Dec-21  \n",
       "1                 Tiger Global  $40,000,000  Dec-21  \n",
       "2  Valar Ventures, IA Ventures  $40,000,000  Dec-21  \n",
       "3                          NaN  $50,000,000  Dec-21  \n",
       "4        Sequoia Capital India   $4,900,000  Dec-21  "
      ]
     },
     "execution_count": 11,
     "metadata": {},
     "output_type": "execute_result"
    }
   ],
   "source": [
    "s_data.head()"
   ]
  },
  {
   "cell_type": "code",
   "execution_count": 12,
   "id": "72cf6975",
   "metadata": {},
   "outputs": [
    {
     "data": {
      "text/plain": [
       "Bangalore             426\n",
       "Mumbai                203\n",
       "Gurugram              155\n",
       "New Delhi             144\n",
       "Pune                   47\n",
       "                     ... \n",
       "Gandhinagar             1\n",
       "Silvassa                1\n",
       "Thiruvananthapuram      1\n",
       "Faridabad               1\n",
       "Telangana               1\n",
       "Name: Headquarters, Length: 70, dtype: int64"
      ]
     },
     "execution_count": 12,
     "metadata": {},
     "output_type": "execute_result"
    }
   ],
   "source": [
    "#Which Indian City had the most Number of Startups?\n",
    "s_data['Headquarters'].value_counts()"
   ]
  },
  {
   "cell_type": "code",
   "execution_count": 13,
   "id": "7349851b",
   "metadata": {},
   "outputs": [
    {
     "data": {
      "text/plain": [
       "Bangalore    426\n",
       "Mumbai       203\n",
       "Gurugram     155\n",
       "New Delhi    144\n",
       "Pune          47\n",
       "Chennai       40\n",
       "Noida         34\n",
       "Hyderabad     34\n",
       "Jaipur        11\n",
       "Ahmedabad     11\n",
       "Name: Headquarters, dtype: int64"
      ]
     },
     "execution_count": 13,
     "metadata": {},
     "output_type": "execute_result"
    }
   ],
   "source": [
    "## Check the Top 10 Cities that had boosted the Indian Startups\n",
    "s_data['Headquarters'].value_counts().head(10)"
   ]
  },
  {
   "cell_type": "code",
   "execution_count": 14,
   "id": "db679c37",
   "metadata": {},
   "outputs": [],
   "source": [
    "top_10_cities = pd.DataFrame(s_data['Headquarters'].value_counts().head(10))"
   ]
  },
  {
   "cell_type": "code",
   "execution_count": 15,
   "id": "5a98a2f5",
   "metadata": {},
   "outputs": [
    {
     "data": {
      "image/png": "[encoded data removed]",
      "text/plain": [
       "<Figure size 720x504 with 1 Axes>"
      ]
     },
     "metadata": {
      "needs_background": "light"
     },
     "output_type": "display_data"
    }
   ],
   "source": [
    "plt.figure(figsize=(10,7))\n",
    "sns.barplot(data = s_data, x=top_10_cities['Headquarters'], y=top_10_cities.index )\n",
    "plt.xticks(rotation=90)\n",
    "plt.xlabel(\"City Names\")\n",
    "plt.ylabel(\"Number of Startups in Each City\")\n",
    "plt.title(\"Top 10 Cities Housing the Indian StartUps\")\n",
    "plt.show()"
   ]
  },
  {
   "cell_type": "markdown",
   "id": "e53501ee",
   "metadata": {},
   "source": [
    "- Bangalore has been leading the Startup space till date in India.\n",
    "- Bangalore, Mumbai, Gurugram, and New Delhi comprise of majority of Indian Start-Up origins."
   ]
  },
  {
   "cell_type": "code",
   "execution_count": 16,
   "id": "9c784c20",
   "metadata": {},
   "outputs": [
    {
     "data": {
      "text/plain": [
       "FinTech                   121\n",
       "EdTech                    102\n",
       "Financial Services         61\n",
       "Food & Beverages           37\n",
       "E-commerce                 37\n",
       "                         ... \n",
       "Wholesale                   1\n",
       "Automobile                  1\n",
       "Environmental Services      1\n",
       "Merchandise                 1\n",
       "Fashion & Lifestyle         1\n",
       "Name: Sector, Length: 256, dtype: int64"
      ]
     },
     "execution_count": 16,
     "metadata": {},
     "output_type": "execute_result"
    }
   ],
   "source": [
    "#Lets' Check Which sector has observed and driven most start-ups\n",
    "s_data['Sector'].value_counts()"
   ]
  },
  {
   "cell_type": "code",
   "execution_count": 17,
   "id": "498998c8",
   "metadata": {},
   "outputs": [
    {
     "data": {
      "text/plain": [
       "FinTech                              121\n",
       "EdTech                               102\n",
       "Financial Services                    61\n",
       "Food & Beverages                      37\n",
       "E-commerce                            37\n",
       "Information Technology & Services     36\n",
       "Healthcare                            34\n",
       "Automotive                            33\n",
       "E-learning                            25\n",
       "Consumer Goods                        24\n",
       "Name: Sector, dtype: int64"
      ]
     },
     "execution_count": 17,
     "metadata": {},
     "output_type": "execute_result"
    }
   ],
   "source": [
    "#Top 10 Sectors, that witnessed majority of Start-Ups in India\n",
    "s_data['Sector'].value_counts().head(10)"
   ]
  },
  {
   "cell_type": "code",
   "execution_count": 18,
   "id": "8240f815",
   "metadata": {},
   "outputs": [],
   "source": [
    "top_10_sectors = pd.DataFrame(s_data['Sector'].value_counts().head(10))"
   ]
  },
  {
   "cell_type": "code",
   "execution_count": 19,
   "id": "51ef587f",
   "metadata": {},
   "outputs": [
    {
     "data": {
      "image/png": "[encoded data removed]",
      "text/plain": [
       "<Figure size 720x504 with 1 Axes>"
      ]
     },
     "metadata": {
      "needs_background": "light"
     },
     "output_type": "display_data"
    }
   ],
   "source": [
    "plt.figure(figsize=(10,7))\n",
    "sns.barplot(data = s_data, x = top_10_sectors['Sector'], y = top_10_sectors.index)\n",
    "plt.xticks(rotation=90)\n",
    "plt.xlabel(\"Number of Start-Ups in Each Sector\")\n",
    "plt.ylabel(\"Sector Names\")\n",
    "plt.title(\"Top 10 Sectors driving the Indian Start-Up Space\")\n",
    "plt.show()"
   ]
  },
  {
   "cell_type": "markdown",
   "id": "0ba63d0c",
   "metadata": {},
   "source": [
    "- **FinTech** and **EdTech** Sectors have been driving the startup culture majorly in India.\n",
    "- This is also the reason for India being named as \"Father of EdTechs\"."
   ]
  },
  {
   "cell_type": "code",
   "execution_count": 20,
   "id": "82858a2c",
   "metadata": {},
   "outputs": [
    {
     "data": {
      "text/plain": [
       "Inflection Point Ventures                                                     24\n",
       "Tiger Global                                                                  11\n",
       "Venture Catalysts                                                             11\n",
       "Elevation Capital                                                              7\n",
       "Titan Capital                                                                  6\n",
       "                                                                              ..\n",
       "Arvind Venugopal Nair, Amritendu Mukherjee                                     1\n",
       "Rajasthan Venture Capital Fund                                                 1\n",
       "Covalent, Double Peak, GenBlock Capital, Ledger Prime, MEXC Global, Synaps     1\n",
       "Vijayan                                                                        1\n",
       "growX ventures, Venture Gurukool                                               1\n",
       "Name: Investor/s, Length: 938, dtype: int64"
      ]
     },
     "execution_count": 20,
     "metadata": {},
     "output_type": "execute_result"
    }
   ],
   "source": [
    "# Top Investors in Indian Start-Up Space\n",
    "s_data['Investor/s'].value_counts()"
   ]
  },
  {
   "cell_type": "code",
   "execution_count": 21,
   "id": "65754479",
   "metadata": {},
   "outputs": [
    {
     "data": {
      "text/plain": [
       "Inflection Point Ventures    24\n",
       "Tiger Global                 11\n",
       "Venture Catalysts            11\n",
       "Elevation Capital             7\n",
       "Titan Capital                 6\n",
       "We Founder Circle             6\n",
       "Sequoia Capital India         5\n",
       "Anicut Angel Fund             5\n",
       "Kalaari Capital               5\n",
       "Sixth Sense Ventures          5\n",
       "Name: Investor/s, dtype: int64"
      ]
     },
     "execution_count": 21,
     "metadata": {},
     "output_type": "execute_result"
    }
   ],
   "source": [
    "# Top 10 Investors in Indian Start-Up Space\n",
    "s_data['Investor/s'].value_counts().head(10)"
   ]
  },
  {
   "cell_type": "code",
   "execution_count": 22,
   "id": "b107f1dd",
   "metadata": {},
   "outputs": [],
   "source": [
    "top_10_investors = pd.DataFrame(s_data['Investor/s'].value_counts().head(10))"
   ]
  },
  {
   "cell_type": "code",
   "execution_count": 23,
   "id": "2c8faa67",
   "metadata": {},
   "outputs": [
    {
     "data": {
      "image/png": "[encoded data removed]",
      "text/plain": [
       "<Figure size 720x504 with 1 Axes>"
      ]
     },
     "metadata": {
      "needs_background": "light"
     },
     "output_type": "display_data"
    }
   ],
   "source": [
    "plt.figure(figsize=(10,7))\n",
    "sns.barplot(data = s_data, x = top_10_investors['Investor/s'], y= top_10_investors.index)\n",
    "plt.xticks(rotation=90)\n",
    "plt.xlabel(\"Number of StartUps Funded by Each Investor/s\")\n",
    "plt.ylabel(\"Investor/s Names\")\n",
    "plt.title(\"Top 10 Investor/s in the Indian StartUp Ecosystem\")\n",
    "plt.show()"
   ]
  },
  {
   "cell_type": "markdown",
   "id": "c0d81ef7",
   "metadata": {},
   "source": [
    "- **Inflection Point Ventures, Tiger Global** and **Venture Catalysts** are top 3 investors, that have fueled the finances of most number of Indian Start-Ups."
   ]
  },
  {
   "cell_type": "markdown",
   "id": "7bf44cfd",
   "metadata": {},
   "source": [
    "##### Data Segregation\n",
    "--- Analyse the data w.r.t. Founding years of Majority of Start-Ups"
   ]
  },
  {
   "cell_type": "code",
   "execution_count": 24,
   "id": "5a061819",
   "metadata": {},
   "outputs": [
    {
     "data": {
      "text/plain": [
       "2020.0    237\n",
       "2019.0    177\n",
       "2018.0    143\n",
       "2015.0    129\n",
       "2016.0    118\n",
       "2017.0    112\n",
       "2021.0     76\n",
       "2014.0     57\n",
       "2011.0     34\n",
       "2012.0     31\n",
       "2013.0     22\n",
       "2008.0     15\n",
       "2010.0     14\n",
       "2009.0      9\n",
       "2000.0      6\n",
       "2007.0      6\n",
       "2006.0      3\n",
       "1994.0      2\n",
       "1989.0      2\n",
       "2004.0      2\n",
       "1998.0      2\n",
       "2002.0      2\n",
       "1999.0      2\n",
       "2005.0      1\n",
       "1963.0      1\n",
       "2003.0      1\n",
       "1993.0      1\n",
       "1991.0      1\n",
       "1984.0      1\n",
       "1978.0      1\n",
       "Name: Founded, dtype: int64"
      ]
     },
     "execution_count": 24,
     "metadata": {},
     "output_type": "execute_result"
    }
   ],
   "source": [
    "s_data['Founded'].value_counts()"
   ]
  },
  {
   "cell_type": "code",
   "execution_count": 25,
   "id": "131378f8",
   "metadata": {},
   "outputs": [
    {
     "data": {
      "text/plain": [
       "2020.0    237\n",
       "2019.0    177\n",
       "2018.0    143\n",
       "2015.0    129\n",
       "2016.0    118\n",
       "2017.0    112\n",
       "2021.0     76\n",
       "2014.0     57\n",
       "2011.0     34\n",
       "2012.0     31\n",
       "Name: Founded, dtype: int64"
      ]
     },
     "execution_count": 25,
     "metadata": {},
     "output_type": "execute_result"
    }
   ],
   "source": [
    "s_data['Founded'].value_counts().head(10)"
   ]
  },
  {
   "cell_type": "code",
   "execution_count": 26,
   "id": "24a52e98",
   "metadata": {},
   "outputs": [],
   "source": [
    "top_10_years = pd.DataFrame(s_data['Founded'].value_counts().head(10))"
   ]
  },
  {
   "cell_type": "code",
   "execution_count": 27,
   "id": "ba5d9d5d",
   "metadata": {},
   "outputs": [
    {
     "data": {
      "image/png": "[encoded data removed]",
      "text/plain": [
       "<Figure size 1584x504 with 1 Axes>"
      ]
     },
     "metadata": {
      "needs_background": "light"
     },
     "output_type": "display_data"
    }
   ],
   "source": [
    "plt.figure(figsize=(22,7))\n",
    "sns.histplot(s_data['Founded'], kde=True, bins=70)\n",
    "plt.title(\"Year wise StartUps Founded\")\n",
    "plt.xlabel(\"Year\")\n",
    "plt.ylabel(\"Number of StartUps\")\n",
    "plt.show()"
   ]
  },
  {
   "cell_type": "markdown",
   "id": "ba413213",
   "metadata": {},
   "source": [
    "- (2010 - 2021) Has been a decade with higest number of StartUps emerging in various sectors, especially in **FinTech** and **EdTech** space."
   ]
  },
  {
   "cell_type": "markdown",
   "id": "18c2088d",
   "metadata": {},
   "source": [
    "##### Data Processing w.r.t. Amount Raised by Start-Ups"
   ]
  },
  {
   "cell_type": "code",
   "execution_count": 28,
   "id": "97272135",
   "metadata": {
    "scrolled": true
   },
   "outputs": [
    {
     "data": {
      "text/html": [
       "<div>\n",
       "<style scoped>\n",
       "    .dataframe tbody tr th:only-of-type {\n",
       "        vertical-align: middle;\n",
       "    }\n",
       "\n",
       "    .dataframe tbody tr th {\n",
       "        vertical-align: top;\n",
       "    }\n",
       "\n",
       "    .dataframe thead th {\n",
       "        text-align: right;\n",
       "    }\n",
       "</style>\n",
       "<table border=\"1\" class=\"dataframe\">\n",
       "  <thead>\n",
       "    <tr style=\"text-align: right;\">\n",
       "      <th></th>\n",
       "      <th>Company/Brand</th>\n",
       "      <th>Founded</th>\n",
       "      <th>Headquarters</th>\n",
       "      <th>Sector</th>\n",
       "      <th>What it does</th>\n",
       "      <th>Founder/s</th>\n",
       "      <th>Investor/s</th>\n",
       "      <th>Amount</th>\n",
       "      <th>Date</th>\n",
       "      <th>Amount_New</th>\n",
       "    </tr>\n",
       "  </thead>\n",
       "  <tbody>\n",
       "    <tr>\n",
       "      <th>0</th>\n",
       "      <td>CollegeDekho</td>\n",
       "      <td>2015.0</td>\n",
       "      <td>Gurgaon</td>\n",
       "      <td>E-learning</td>\n",
       "      <td>Collegedekho.com is Student’s Partner, Friend ...</td>\n",
       "      <td>Ruchir Arora</td>\n",
       "      <td>Disrupt ADQ, QIC</td>\n",
       "      <td>$35,000,000</td>\n",
       "      <td>Dec-21</td>\n",
       "      <td>35000000.0</td>\n",
       "    </tr>\n",
       "    <tr>\n",
       "      <th>1</th>\n",
       "      <td>BOX8</td>\n",
       "      <td>2012.0</td>\n",
       "      <td>Mumbai</td>\n",
       "      <td>Food &amp; Beverages</td>\n",
       "      <td>India's Largest Desi Meals Brand</td>\n",
       "      <td>Anshul Gupta, Amit Raj</td>\n",
       "      <td>Tiger Global</td>\n",
       "      <td>$40,000,000</td>\n",
       "      <td>Dec-21</td>\n",
       "      <td>40000000.0</td>\n",
       "    </tr>\n",
       "    <tr>\n",
       "      <th>2</th>\n",
       "      <td>Simpl</td>\n",
       "      <td>2015.0</td>\n",
       "      <td>Bangalore</td>\n",
       "      <td>Consumer Services</td>\n",
       "      <td>Simpl empowers merchants to build trusted rela...</td>\n",
       "      <td>Nitya, Chaitra Chidanand</td>\n",
       "      <td>Valar Ventures, IA Ventures</td>\n",
       "      <td>$40,000,000</td>\n",
       "      <td>Dec-21</td>\n",
       "      <td>40000000.0</td>\n",
       "    </tr>\n",
       "    <tr>\n",
       "      <th>3</th>\n",
       "      <td>8i Ventures</td>\n",
       "      <td>2018.0</td>\n",
       "      <td>Mumbai</td>\n",
       "      <td>Venture Capital &amp; Private Equity</td>\n",
       "      <td>8i is a Mumbai &amp; Bangalore based early stage f...</td>\n",
       "      <td>Vikram Chachra</td>\n",
       "      <td>NaN</td>\n",
       "      <td>$50,000,000</td>\n",
       "      <td>Dec-21</td>\n",
       "      <td>50000000.0</td>\n",
       "    </tr>\n",
       "    <tr>\n",
       "      <th>4</th>\n",
       "      <td>PayGlocal</td>\n",
       "      <td>2021.0</td>\n",
       "      <td>Bangalore</td>\n",
       "      <td>Financial Services</td>\n",
       "      <td>PayGlocal is a FinTech solving for global paym...</td>\n",
       "      <td>Prachi Dharani, Rohit Sukhija, Yogesh Lokhande</td>\n",
       "      <td>Sequoia Capital India</td>\n",
       "      <td>$4,900,000</td>\n",
       "      <td>Dec-21</td>\n",
       "      <td>4900000.0</td>\n",
       "    </tr>\n",
       "  </tbody>\n",
       "</table>\n",
       "</div>"
      ],
      "text/plain": [
       "  Company/Brand  Founded Headquarters                            Sector  \\\n",
       "0  CollegeDekho   2015.0      Gurgaon                        E-learning   \n",
       "1          BOX8   2012.0       Mumbai                  Food & Beverages   \n",
       "2         Simpl   2015.0    Bangalore                 Consumer Services   \n",
       "3   8i Ventures   2018.0       Mumbai  Venture Capital & Private Equity   \n",
       "4     PayGlocal   2021.0    Bangalore                Financial Services   \n",
       "\n",
       "                                        What it does  \\\n",
       "0  Collegedekho.com is Student’s Partner, Friend ...   \n",
       "1                   India's Largest Desi Meals Brand   \n",
       "2  Simpl empowers merchants to build trusted rela...   \n",
       "3  8i is a Mumbai & Bangalore based early stage f...   \n",
       "4  PayGlocal is a FinTech solving for global paym...   \n",
       "\n",
       "                                        Founder/s  \\\n",
       "0                                    Ruchir Arora   \n",
       "1                          Anshul Gupta, Amit Raj   \n",
       "2                        Nitya, Chaitra Chidanand   \n",
       "3                                  Vikram Chachra   \n",
       "4  Prachi Dharani, Rohit Sukhija, Yogesh Lokhande   \n",
       "\n",
       "                    Investor/s       Amount   Date   Amount_New  \n",
       "0             Disrupt ADQ, QIC  $35,000,000  Dec-21  35000000.0  \n",
       "1                 Tiger Global  $40,000,000  Dec-21  40000000.0  \n",
       "2  Valar Ventures, IA Ventures  $40,000,000  Dec-21  40000000.0  \n",
       "3                          NaN  $50,000,000  Dec-21  50000000.0  \n",
       "4        Sequoia Capital India   $4,900,000  Dec-21   4900000.0  "
      ]
     },
     "execution_count": 28,
     "metadata": {},
     "output_type": "execute_result"
    }
   ],
   "source": [
    "s_data['Amount_New'] = pd.DataFrame(s_data['Amount'].str.replace('$','',regex=True))\n",
    "s_data['Amount_New'] = s_data['Amount_New'].str.replace(',','',regex = True)\n",
    "s_data['Amount_New'] = pd.to_numeric(s_data['Amount_New'], errors='coerce')\n",
    "s_data.head()"
   ]
  },
  {
   "cell_type": "markdown",
   "id": "556c3f8f",
   "metadata": {},
   "source": [
    "### Total Funds raised by Start-Ups w.r.t. Each Headquarters across India"
   ]
  },
  {
   "cell_type": "code",
   "execution_count": 29,
   "id": "5d87230f",
   "metadata": {},
   "outputs": [],
   "source": [
    "# Grouping the Data w.r.t. \"Headquarters\"\n",
    "# reset_index (drop = True) will delete the index instead of inserting it back into the columns of the DataFrame.\n",
    "# reset_index (drop = False) will keep the index into the cols. of DataFrame\n",
    "data_group = s_data.groupby(by = 'Headquarters').sum().drop('Founded', axis=1).reset_index(drop=False)"
   ]
  },
  {
   "cell_type": "code",
   "execution_count": 30,
   "id": "3886d8c9",
   "metadata": {},
   "outputs": [
    {
     "data": {
      "text/html": [
       "<div>\n",
       "<style scoped>\n",
       "    .dataframe tbody tr th:only-of-type {\n",
       "        vertical-align: middle;\n",
       "    }\n",
       "\n",
       "    .dataframe tbody tr th {\n",
       "        vertical-align: top;\n",
       "    }\n",
       "\n",
       "    .dataframe thead th {\n",
       "        text-align: right;\n",
       "    }\n",
       "</style>\n",
       "<table border=\"1\" class=\"dataframe\">\n",
       "  <thead>\n",
       "    <tr style=\"text-align: right;\">\n",
       "      <th></th>\n",
       "      <th>Headquarters</th>\n",
       "      <th>Amount_New</th>\n",
       "    </tr>\n",
       "  </thead>\n",
       "  <tbody>\n",
       "    <tr>\n",
       "      <th>0</th>\n",
       "      <td>Ahmadabad</td>\n",
       "      <td>4.300000e+06</td>\n",
       "    </tr>\n",
       "    <tr>\n",
       "      <th>1</th>\n",
       "      <td>Ahmedabad</td>\n",
       "      <td>1.981550e+08</td>\n",
       "    </tr>\n",
       "    <tr>\n",
       "      <th>2</th>\n",
       "      <td>Ambernath</td>\n",
       "      <td>2.000000e+05</td>\n",
       "    </tr>\n",
       "    <tr>\n",
       "      <th>3</th>\n",
       "      <td>Andheri</td>\n",
       "      <td>1.000000e+06</td>\n",
       "    </tr>\n",
       "    <tr>\n",
       "      <th>4</th>\n",
       "      <td>Bangalore</td>\n",
       "      <td>1.574084e+10</td>\n",
       "    </tr>\n",
       "    <tr>\n",
       "      <th>...</th>\n",
       "      <td>...</td>\n",
       "      <td>...</td>\n",
       "    </tr>\n",
       "    <tr>\n",
       "      <th>65</th>\n",
       "      <td>The Nilgiris</td>\n",
       "      <td>2.000000e+05</td>\n",
       "    </tr>\n",
       "    <tr>\n",
       "      <th>66</th>\n",
       "      <td>Thiruvananthapuram</td>\n",
       "      <td>0.000000e+00</td>\n",
       "    </tr>\n",
       "    <tr>\n",
       "      <th>67</th>\n",
       "      <td>Trivandrum</td>\n",
       "      <td>3.000000e+05</td>\n",
       "    </tr>\n",
       "    <tr>\n",
       "      <th>68</th>\n",
       "      <td>Vadodara</td>\n",
       "      <td>1.000000e+07</td>\n",
       "    </tr>\n",
       "    <tr>\n",
       "      <th>69</th>\n",
       "      <td>West Bengal</td>\n",
       "      <td>1.500000e+06</td>\n",
       "    </tr>\n",
       "  </tbody>\n",
       "</table>\n",
       "<p>70 rows × 2 columns</p>\n",
       "</div>"
      ],
      "text/plain": [
       "          Headquarters    Amount_New\n",
       "0            Ahmadabad  4.300000e+06\n",
       "1            Ahmedabad  1.981550e+08\n",
       "2            Ambernath  2.000000e+05\n",
       "3              Andheri  1.000000e+06\n",
       "4            Bangalore  1.574084e+10\n",
       "..                 ...           ...\n",
       "65        The Nilgiris  2.000000e+05\n",
       "66  Thiruvananthapuram  0.000000e+00\n",
       "67          Trivandrum  3.000000e+05\n",
       "68            Vadodara  1.000000e+07\n",
       "69         West Bengal  1.500000e+06\n",
       "\n",
       "[70 rows x 2 columns]"
      ]
     },
     "execution_count": 30,
     "metadata": {},
     "output_type": "execute_result"
    }
   ],
   "source": [
    "data_group"
   ]
  },
  {
   "cell_type": "code",
   "execution_count": 31,
   "id": "021c1ffe",
   "metadata": {},
   "outputs": [
    {
     "data": {
      "text/html": [
       "<div>\n",
       "<style scoped>\n",
       "    .dataframe tbody tr th:only-of-type {\n",
       "        vertical-align: middle;\n",
       "    }\n",
       "\n",
       "    .dataframe tbody tr th {\n",
       "        vertical-align: top;\n",
       "    }\n",
       "\n",
       "    .dataframe thead th {\n",
       "        text-align: right;\n",
       "    }\n",
       "</style>\n",
       "<table border=\"1\" class=\"dataframe\">\n",
       "  <thead>\n",
       "    <tr style=\"text-align: right;\">\n",
       "      <th></th>\n",
       "      <th>Headquarters</th>\n",
       "      <th>Amount_New</th>\n",
       "    </tr>\n",
       "  </thead>\n",
       "  <tbody>\n",
       "    <tr>\n",
       "      <th>0</th>\n",
       "      <td>Ahmadabad</td>\n",
       "      <td>4.300000e+06</td>\n",
       "    </tr>\n",
       "    <tr>\n",
       "      <th>1</th>\n",
       "      <td>Ahmedabad</td>\n",
       "      <td>1.981550e+08</td>\n",
       "    </tr>\n",
       "    <tr>\n",
       "      <th>2</th>\n",
       "      <td>Ambernath</td>\n",
       "      <td>2.000000e+05</td>\n",
       "    </tr>\n",
       "    <tr>\n",
       "      <th>3</th>\n",
       "      <td>Andheri</td>\n",
       "      <td>1.000000e+06</td>\n",
       "    </tr>\n",
       "    <tr>\n",
       "      <th>4</th>\n",
       "      <td>Bangalore</td>\n",
       "      <td>1.574084e+10</td>\n",
       "    </tr>\n",
       "    <tr>\n",
       "      <th>5</th>\n",
       "      <td>Beijing</td>\n",
       "      <td>2.000000e+08</td>\n",
       "    </tr>\n",
       "    <tr>\n",
       "      <th>6</th>\n",
       "      <td>Bhilwara</td>\n",
       "      <td>8.000000e+06</td>\n",
       "    </tr>\n",
       "    <tr>\n",
       "      <th>7</th>\n",
       "      <td>Bhubaneswar</td>\n",
       "      <td>3.000000e+07</td>\n",
       "    </tr>\n",
       "    <tr>\n",
       "      <th>8</th>\n",
       "      <td>Chandigarh</td>\n",
       "      <td>2.410000e+07</td>\n",
       "    </tr>\n",
       "    <tr>\n",
       "      <th>9</th>\n",
       "      <td>Chennai</td>\n",
       "      <td>7.214400e+08</td>\n",
       "    </tr>\n",
       "  </tbody>\n",
       "</table>\n",
       "</div>"
      ],
      "text/plain": [
       "  Headquarters    Amount_New\n",
       "0    Ahmadabad  4.300000e+06\n",
       "1    Ahmedabad  1.981550e+08\n",
       "2    Ambernath  2.000000e+05\n",
       "3      Andheri  1.000000e+06\n",
       "4    Bangalore  1.574084e+10\n",
       "5      Beijing  2.000000e+08\n",
       "6     Bhilwara  8.000000e+06\n",
       "7  Bhubaneswar  3.000000e+07\n",
       "8   Chandigarh  2.410000e+07\n",
       "9      Chennai  7.214400e+08"
      ]
     },
     "execution_count": 31,
     "metadata": {},
     "output_type": "execute_result"
    }
   ],
   "source": [
    "data_group.head(10)"
   ]
  },
  {
   "cell_type": "code",
   "execution_count": 32,
   "id": "f42035ca",
   "metadata": {},
   "outputs": [],
   "source": [
    "data_top_group = data_group.sort_values(by = 'Amount_New',ascending = False).head(10)"
   ]
  },
  {
   "cell_type": "code",
   "execution_count": 33,
   "id": "708f5843",
   "metadata": {},
   "outputs": [
    {
     "data": {
      "image/png": "[encoded data removed]",
      "text/plain": [
       "<Figure size 720x504 with 1 Axes>"
      ]
     },
     "metadata": {
      "needs_background": "light"
     },
     "output_type": "display_data"
    }
   ],
   "source": [
    "plt.figure(figsize = (10,7))\n",
    "sns.barplot(x = data_top_group['Headquarters'],y=data_top_group['Amount_New']) \n",
    "plt.xticks(rotation=90)\n",
    "plt.title(\"Top Headquaters with Amount\")\n",
    "plt.show()"
   ]
  },
  {
   "cell_type": "markdown",
   "id": "66d7742b",
   "metadata": {},
   "source": [
    "* **Mumbai, Banglore, Gurugram** and **New Delhi** are the major cities to finance the Indian StartUp Ecosystem."
   ]
  },
  {
   "cell_type": "markdown",
   "id": "a26102aa",
   "metadata": {},
   "source": [
    "### Total Funds raised by Start-Ups w.r.t. Each Investor/s across India"
   ]
  },
  {
   "cell_type": "code",
   "execution_count": 34,
   "id": "a9037c6d",
   "metadata": {},
   "outputs": [],
   "source": [
    "data_group_invest = s_data.groupby(by = 'Investor/s').sum().drop('Founded', axis=1).reset_index (drop=False)"
   ]
  },
  {
   "cell_type": "code",
   "execution_count": 35,
   "id": "05f1d17c",
   "metadata": {},
   "outputs": [
    {
     "data": {
      "text/html": [
       "<div>\n",
       "<style scoped>\n",
       "    .dataframe tbody tr th:only-of-type {\n",
       "        vertical-align: middle;\n",
       "    }\n",
       "\n",
       "    .dataframe tbody tr th {\n",
       "        vertical-align: top;\n",
       "    }\n",
       "\n",
       "    .dataframe thead th {\n",
       "        text-align: right;\n",
       "    }\n",
       "</style>\n",
       "<table border=\"1\" class=\"dataframe\">\n",
       "  <thead>\n",
       "    <tr style=\"text-align: right;\">\n",
       "      <th></th>\n",
       "      <th>Investor/s</th>\n",
       "      <th>Amount_New</th>\n",
       "    </tr>\n",
       "  </thead>\n",
       "  <tbody>\n",
       "    <tr>\n",
       "      <th>0</th>\n",
       "      <td>$1,000,000</td>\n",
       "      <td>0.0</td>\n",
       "    </tr>\n",
       "    <tr>\n",
       "      <th>1</th>\n",
       "      <td>$22,000,000</td>\n",
       "      <td>0.0</td>\n",
       "    </tr>\n",
       "    <tr>\n",
       "      <th>2</th>\n",
       "      <td>$5,000,000</td>\n",
       "      <td>0.0</td>\n",
       "    </tr>\n",
       "    <tr>\n",
       "      <th>3</th>\n",
       "      <td>$Undisclosed</td>\n",
       "      <td>0.0</td>\n",
       "    </tr>\n",
       "    <tr>\n",
       "      <th>4</th>\n",
       "      <td>021 Capital, Sparrow Capital</td>\n",
       "      <td>1800000.0</td>\n",
       "    </tr>\n",
       "    <tr>\n",
       "      <th>...</th>\n",
       "      <td>...</td>\n",
       "      <td>...</td>\n",
       "    </tr>\n",
       "    <tr>\n",
       "      <th>933</th>\n",
       "      <td>http://100x.vc/</td>\n",
       "      <td>2500000.0</td>\n",
       "    </tr>\n",
       "    <tr>\n",
       "      <th>934</th>\n",
       "      <td>iSeed, Titan Capital</td>\n",
       "      <td>500000.0</td>\n",
       "    </tr>\n",
       "    <tr>\n",
       "      <th>935</th>\n",
       "      <td>pi Ventures</td>\n",
       "      <td>1800000.0</td>\n",
       "    </tr>\n",
       "    <tr>\n",
       "      <th>936</th>\n",
       "      <td>responsAbility Investments, Blue Orchard</td>\n",
       "      <td>10000000.0</td>\n",
       "    </tr>\n",
       "    <tr>\n",
       "      <th>937</th>\n",
       "      <td>velocity.in</td>\n",
       "      <td>200000.0</td>\n",
       "    </tr>\n",
       "  </tbody>\n",
       "</table>\n",
       "<p>938 rows × 2 columns</p>\n",
       "</div>"
      ],
      "text/plain": [
       "                                   Investor/s  Amount_New\n",
       "0                                  $1,000,000         0.0\n",
       "1                                 $22,000,000         0.0\n",
       "2                                  $5,000,000         0.0\n",
       "3                                $Undisclosed         0.0\n",
       "4                021 Capital, Sparrow Capital   1800000.0\n",
       "..                                        ...         ...\n",
       "933                           http://100x.vc/   2500000.0\n",
       "934                      iSeed, Titan Capital    500000.0\n",
       "935                               pi Ventures   1800000.0\n",
       "936  responsAbility Investments, Blue Orchard  10000000.0\n",
       "937                               velocity.in    200000.0\n",
       "\n",
       "[938 rows x 2 columns]"
      ]
     },
     "execution_count": 35,
     "metadata": {},
     "output_type": "execute_result"
    }
   ],
   "source": [
    "data_group_invest"
   ]
  },
  {
   "cell_type": "code",
   "execution_count": 36,
   "id": "49af67dd",
   "metadata": {},
   "outputs": [],
   "source": [
    "data_top_invest = data_group_invest.sort_values(by = 'Amount_New', ascending = False).head(10)"
   ]
  },
  {
   "cell_type": "code",
   "execution_count": 37,
   "id": "8bfb1c92",
   "metadata": {},
   "outputs": [
    {
     "data": {
      "image/png": "[encoded data removed]",
      "text/plain": [
       "<Figure size 720x504 with 1 Axes>"
      ]
     },
     "metadata": {
      "needs_background": "light"
     },
     "output_type": "display_data"
    }
   ],
   "source": [
    "plt.figure(figsize = (10,7))\n",
    "sns.barplot(x = data_top_invest['Investor/s'],y=data_top_invest['Amount_New']) \n",
    "plt.xticks(rotation=90)\n",
    "plt.title(\"Top Investors w.r.t. Amount Invested in Indian StartUps\")\n",
    "plt.show()"
   ]
  },
  {
   "cell_type": "markdown",
   "id": "20631c83",
   "metadata": {},
   "source": [
    "- **Tiger Global, Canaan Valley Capital, Falcon Edge** and **DST Global** are the major investor/s fueling the growth on Indian Start-Up Ecosystem."
   ]
  },
  {
   "cell_type": "markdown",
   "id": "1c82f5e1",
   "metadata": {},
   "source": [
    "## Conlusion:\n",
    "\n",
    "` Few Notable outcomes of this EDA are as Follows:\n",
    "* FinTech, and EdTech sectors are the leaders of Start-Up Ecosystem in India. \n",
    "* Major players like PayTM, PhonePe, BharatPe, CRED in FinTech Industry and BYJU'S, UpGrad, SimpliLearn in EdTech Space.\n",
    "* Banglore has housed most number of StartUps, and thus known as the \"StartUp Capital of India\"\n",
    "* Mumbai city, has emerged as a major financer of the Indian StartUps.\n",
    "* Tiger Global is the largest venture capitalist, that has invested in Indian StartUps.\n",
    "    "
   ]
  },
  {
   "cell_type": "markdown",
   "id": "c7a66638",
   "metadata": {},
   "source": [
    "## Thank You!"
   ]
  }
 ],
 "metadata": {
  "kernelspec": {
   "display_name": "Python 3 (ipykernel)",
   "language": "python",
   "name": "python3"
  },
  "language_info": {
   "codemirror_mode": {
    "name": "ipython",
    "version": 3
   },
   "file_extension": ".py",
   "mimetype": "text/x-python",
   "name": "python",
   "nbconvert_exporter": "python",
   "pygments_lexer": "ipython3",
   "version": "3.9.7"
  }
 },
 "nbformat": 4,
 "nbformat_minor": 5
}
